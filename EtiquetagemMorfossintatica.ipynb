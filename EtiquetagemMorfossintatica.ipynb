{
  "nbformat": 4,
  "nbformat_minor": 0,
  "metadata": {
    "colab": {
      "provenance": []
    },
    "kernelspec": {
      "name": "python3",
      "display_name": "Python 3"
    },
    "language_info": {
      "name": "python"
    }
  },
  "cells": [
    {
      "cell_type": "code",
      "source": [
        "!pip install conllu\n",
        "!wget http://marlovss.work.gd:8080/tomorrow/aula2/pt_porttinari-ud-train.conllu\n",
        "!wget http://marlovss.work.gd:8080/tomorrow/aula2/pt_porttinari-ud-test.conllu\n",
        "!pip install conllu nltk scikit-learn xgboost\n"
      ],
      "metadata": {
        "colab": {
          "base_uri": "https://localhost:8080/"
        },
        "id": "0B8reIkST4fV",
        "outputId": "2e3facb7-9e9a-455a-bce3-befa43ec9c61"
      },
      "execution_count": null,
      "outputs": [
        {
          "output_type": "stream",
          "name": "stdout",
          "text": [
            "Requirement already satisfied: conllu in /usr/local/lib/python3.10/dist-packages (5.0.1)\n",
            "--2024-08-18 00:08:11--  http://marlovss.work.gd:8080/tomorrow/aula2/pt_porttinari-ud-train.conllu\n",
            "Resolving marlovss.work.gd (marlovss.work.gd)... 177.180.149.154\n",
            "Connecting to marlovss.work.gd (marlovss.work.gd)|177.180.149.154|:8080... connected.\n",
            "HTTP request sent, awaiting response... 200 OK\n",
            "Length: 7444078 (7.1M)\n",
            "Saving to: ‘pt_porttinari-ud-train.conllu.1’\n",
            "\n",
            "pt_porttinari-ud-tr 100%[===================>]   7.10M   317KB/s    in 22s     \n",
            "\n",
            "2024-08-18 00:08:34 (329 KB/s) - ‘pt_porttinari-ud-train.conllu.1’ saved [7444078/7444078]\n",
            "\n",
            "--2024-08-18 00:08:34--  http://marlovss.work.gd:8080/tomorrow/aula2/pt_porttinari-ud-test.conllu\n",
            "Resolving marlovss.work.gd (marlovss.work.gd)... 177.180.149.154\n",
            "Connecting to marlovss.work.gd (marlovss.work.gd)|177.180.149.154|:8080... connected.\n",
            "HTTP request sent, awaiting response... 200 OK\n",
            "Length: 2120477 (2.0M)\n",
            "Saving to: ‘pt_porttinari-ud-test.conllu’\n",
            "\n",
            "pt_porttinari-ud-te 100%[===================>]   2.02M   355KB/s    in 7.3s    \n",
            "\n",
            "2024-08-18 00:08:42 (283 KB/s) - ‘pt_porttinari-ud-test.conllu’ saved [2120477/2120477]\n",
            "\n",
            "Requirement already satisfied: conllu in /usr/local/lib/python3.10/dist-packages (5.0.1)\n",
            "Requirement already satisfied: nltk in /usr/local/lib/python3.10/dist-packages (3.8.1)\n",
            "Requirement already satisfied: scikit-learn in /usr/local/lib/python3.10/dist-packages (1.3.2)\n",
            "Requirement already satisfied: xgboost in /usr/local/lib/python3.10/dist-packages (2.1.1)\n",
            "Requirement already satisfied: click in /usr/local/lib/python3.10/dist-packages (from nltk) (8.1.7)\n",
            "Requirement already satisfied: joblib in /usr/local/lib/python3.10/dist-packages (from nltk) (1.4.2)\n",
            "Requirement already satisfied: regex>=2021.8.3 in /usr/local/lib/python3.10/dist-packages (from nltk) (2024.5.15)\n",
            "Requirement already satisfied: tqdm in /usr/local/lib/python3.10/dist-packages (from nltk) (4.66.5)\n",
            "Requirement already satisfied: numpy<2.0,>=1.17.3 in /usr/local/lib/python3.10/dist-packages (from scikit-learn) (1.26.4)\n",
            "Requirement already satisfied: scipy>=1.5.0 in /usr/local/lib/python3.10/dist-packages (from scikit-learn) (1.13.1)\n",
            "Requirement already satisfied: threadpoolctl>=2.0.0 in /usr/local/lib/python3.10/dist-packages (from scikit-learn) (3.5.0)\n",
            "Requirement already satisfied: nvidia-nccl-cu12 in /usr/local/lib/python3.10/dist-packages (from xgboost) (2.22.3)\n"
          ]
        }
      ]
    },
    {
      "cell_type": "markdown",
      "source": [
        "Importação das libs"
      ],
      "metadata": {
        "id": "O5LO4FLQZ8eG"
      }
    },
    {
      "cell_type": "code",
      "source": [
        "import conllu\n",
        "import itertools as it\n",
        "from sklearn.feature_extraction import DictVectorizer\n",
        "from sklearn.preprocessing import LabelEncoder\n",
        "from sklearn.model_selection import train_test_split\n",
        "from xgboost import XGBClassifier, DMatrix\n",
        "from sklearn.metrics import accuracy_score\n"
      ],
      "metadata": {
        "id": "c2M6Q1FrZ6QG"
      },
      "execution_count": null,
      "outputs": []
    },
    {
      "cell_type": "markdown",
      "source": [
        "# Extração de dados"
      ],
      "metadata": {
        "id": "E5sOsWUkZ_TH"
      }
    },
    {
      "cell_type": "markdown",
      "source": [
        "Funções"
      ],
      "metadata": {
        "id": "QclQKnR5fzgJ"
      }
    },
    {
      "cell_type": "code",
      "source": [
        "\n",
        "class AttributeDict(dict):\n",
        "    __getattr__ = dict.__getitem__\n",
        "    __setattr__ = dict.__setitem__\n",
        "    __delattr__ = dict.__delitem__\n",
        "\n",
        "\n",
        "class CoNLLU:\n",
        "    def __init__(self, files):\n",
        "        self.words = []\n",
        "        self.sentences = []\n",
        "        for f in files:\n",
        "            with open(f, encoding='utf-8') as file:\n",
        "                parsed = conllu.parse(file.read())\n",
        "                sents = [[AttributeDict(form=token['form'], lemma=token['lemma'], pos=token['upos'], feats=token['feats'])\n",
        "                          for token in tokenlist if token['upos'] != '_']\n",
        "                         for tokenlist in parsed]\n",
        "                self.sentences.extend(sents)\n",
        "                self.words.extend([word for sent in sents for word in sent])\n",
        "        self.pos_tags = set([word.pos for word in self.words])\n",
        "        self.feats_dict = {pos: set(it.chain.from_iterable([list(word.feats.keys())\n",
        "                                                           for word in self.words if word.pos == pos and word.feats is not None]))\n",
        "                           for pos in self.pos_tags}\n",
        "\n",
        "# Função para extrair as features de uma palavra\n",
        "def extract_features(tokens, index, history):\n",
        "    word = tokens[index][0]  # Extraímos a palavra da tupla (word, pos)\n",
        "    features = {\n",
        "        'word': word.lower(),\n",
        "        'suffix-1': word[-1:],\n",
        "        'suffix-2': word[-2:],\n",
        "        'suffix-3': word[-3:],\n",
        "        'prefix-1': word[:1],\n",
        "        'prefix-2': word[:2],\n",
        "        'prefix-3': word[:3],\n",
        "        'is_capitalized': word[0].upper() == word[0],\n",
        "        'is_all_caps': word.upper() == word,\n",
        "        'is_all_lower': word.lower() == word,\n",
        "        'prev_word': '' if index == 0 else tokens[index - 1][0].lower(),  # Extraindo a palavra anterior da tupla\n",
        "        'prev_tag': '' if index == 0 else history[index - 1],\n",
        "        'next_word': '' if index == len(tokens) - 1 else tokens[index + 1][0].lower(),  # Extraindo a próxima palavra da tupla\n",
        "    }\n",
        "    return features\n"
      ],
      "metadata": {
        "id": "ngrWz0z5Z_pn"
      },
      "execution_count": null,
      "outputs": []
    },
    {
      "cell_type": "markdown",
      "source": [
        "Manipulando dados\n"
      ],
      "metadata": {
        "id": "j3XmA6Xjf2Nl"
      }
    },
    {
      "cell_type": "code",
      "source": [
        "# Carregar o dataset\n",
        "bosque = CoNLLU(files=[\"pt_porttinari-ud-train.conllu\",\"pt_porttinari-ud-test.conllu\"])\n",
        "\n",
        "# Preparar as sentenças com as tags\n",
        "tagged_sents = [[(word.form, word.pos) for word in sent] for sent in bosque.sentences]\n",
        "\n",
        "# Criar o conjunto de dados (features, label)\n",
        "data = [(extract_features(sent, i, sent[:i]), sent[i][1]) for sent in tagged_sents for i in range(len(sent))]\n",
        "\n",
        "# Separar características e rótulos\n",
        "X, y = zip(*data)\n",
        "vectorizer = DictVectorizer(sparse=True)\n",
        "X_vec = vectorizer.fit_transform(X)\n",
        "\n",
        "# Codificar rótulos\n",
        "label_encoder = LabelEncoder()\n",
        "y_encoded = label_encoder.fit_transform(y)\n",
        "\n",
        "# Dividir os dados para treino e teste\n",
        "X_train, X_test, y_train, y_test = train_test_split(X_vec, y_encoded, test_size=0.2, random_state=42)"
      ],
      "metadata": {
        "id": "1_ZtTMJvaJ1c"
      },
      "execution_count": null,
      "outputs": []
    },
    {
      "cell_type": "markdown",
      "source": [
        "# Treinamento\n",
        "\n"
      ],
      "metadata": {
        "id": "FzgBUFaIayLP"
      }
    },
    {
      "cell_type": "code",
      "source": [
        "\n",
        "# Criar DMatrix para o treinamento e teste\n",
        "dtrain = DMatrix(X_train, label=y_train)\n",
        "dtest = DMatrix(X_test, label=y_test)\n",
        "\n",
        "# Definir o modelo\n",
        "model = XGBClassifier(use_label_encoder=False, eval_metric='mlogloss')\n",
        "\n",
        "# Treinar o modelo\n",
        "model.fit(X_train, y_train)\n"
      ],
      "metadata": {
        "colab": {
          "base_uri": "https://localhost:8080/",
          "height": 322
        },
        "id": "9xNKIR3-aYyW",
        "outputId": "ff371b1d-23a3-4180-c581-33936b3e66a1"
      },
      "execution_count": null,
      "outputs": [
        {
          "output_type": "stream",
          "name": "stderr",
          "text": [
            "/usr/local/lib/python3.10/dist-packages/xgboost/core.py:158: UserWarning: [00:14:15] WARNING: /workspace/src/learner.cc:740: \n",
            "Parameters: { \"use_label_encoder\" } are not used.\n",
            "\n",
            "  warnings.warn(smsg, UserWarning)\n"
          ]
        },
        {
          "output_type": "execute_result",
          "data": {
            "text/plain": [
              "XGBClassifier(base_score=None, booster=None, callbacks=None,\n",
              "              colsample_bylevel=None, colsample_bynode=None,\n",
              "              colsample_bytree=None, device=None, early_stopping_rounds=None,\n",
              "              enable_categorical=False, eval_metric='mlogloss',\n",
              "              feature_types=None, gamma=None, grow_policy=None,\n",
              "              importance_type=None, interaction_constraints=None,\n",
              "              learning_rate=None, max_bin=None, max_cat_threshold=None,\n",
              "              max_cat_to_onehot=None, max_delta_step=None, max_depth=None,\n",
              "              max_leaves=None, min_child_weight=None, missing=nan,\n",
              "              monotone_constraints=None, multi_strategy=None, n_estimators=None,\n",
              "              n_jobs=None, num_parallel_tree=None, objective='multi:softprob', ...)"
            ],
            "text/html": [
              "<style>#sk-container-id-1 {color: black;}#sk-container-id-1 pre{padding: 0;}#sk-container-id-1 div.sk-toggleable {background-color: white;}#sk-container-id-1 label.sk-toggleable__label {cursor: pointer;display: block;width: 100%;margin-bottom: 0;padding: 0.3em;box-sizing: border-box;text-align: center;}#sk-container-id-1 label.sk-toggleable__label-arrow:before {content: \"▸\";float: left;margin-right: 0.25em;color: #696969;}#sk-container-id-1 label.sk-toggleable__label-arrow:hover:before {color: black;}#sk-container-id-1 div.sk-estimator:hover label.sk-toggleable__label-arrow:before {color: black;}#sk-container-id-1 div.sk-toggleable__content {max-height: 0;max-width: 0;overflow: hidden;text-align: left;background-color: #f0f8ff;}#sk-container-id-1 div.sk-toggleable__content pre {margin: 0.2em;color: black;border-radius: 0.25em;background-color: #f0f8ff;}#sk-container-id-1 input.sk-toggleable__control:checked~div.sk-toggleable__content {max-height: 200px;max-width: 100%;overflow: auto;}#sk-container-id-1 input.sk-toggleable__control:checked~label.sk-toggleable__label-arrow:before {content: \"▾\";}#sk-container-id-1 div.sk-estimator input.sk-toggleable__control:checked~label.sk-toggleable__label {background-color: #d4ebff;}#sk-container-id-1 div.sk-label input.sk-toggleable__control:checked~label.sk-toggleable__label {background-color: #d4ebff;}#sk-container-id-1 input.sk-hidden--visually {border: 0;clip: rect(1px 1px 1px 1px);clip: rect(1px, 1px, 1px, 1px);height: 1px;margin: -1px;overflow: hidden;padding: 0;position: absolute;width: 1px;}#sk-container-id-1 div.sk-estimator {font-family: monospace;background-color: #f0f8ff;border: 1px dotted black;border-radius: 0.25em;box-sizing: border-box;margin-bottom: 0.5em;}#sk-container-id-1 div.sk-estimator:hover {background-color: #d4ebff;}#sk-container-id-1 div.sk-parallel-item::after {content: \"\";width: 100%;border-bottom: 1px solid gray;flex-grow: 1;}#sk-container-id-1 div.sk-label:hover label.sk-toggleable__label {background-color: #d4ebff;}#sk-container-id-1 div.sk-serial::before {content: \"\";position: absolute;border-left: 1px solid gray;box-sizing: border-box;top: 0;bottom: 0;left: 50%;z-index: 0;}#sk-container-id-1 div.sk-serial {display: flex;flex-direction: column;align-items: center;background-color: white;padding-right: 0.2em;padding-left: 0.2em;position: relative;}#sk-container-id-1 div.sk-item {position: relative;z-index: 1;}#sk-container-id-1 div.sk-parallel {display: flex;align-items: stretch;justify-content: center;background-color: white;position: relative;}#sk-container-id-1 div.sk-item::before, #sk-container-id-1 div.sk-parallel-item::before {content: \"\";position: absolute;border-left: 1px solid gray;box-sizing: border-box;top: 0;bottom: 0;left: 50%;z-index: -1;}#sk-container-id-1 div.sk-parallel-item {display: flex;flex-direction: column;z-index: 1;position: relative;background-color: white;}#sk-container-id-1 div.sk-parallel-item:first-child::after {align-self: flex-end;width: 50%;}#sk-container-id-1 div.sk-parallel-item:last-child::after {align-self: flex-start;width: 50%;}#sk-container-id-1 div.sk-parallel-item:only-child::after {width: 0;}#sk-container-id-1 div.sk-dashed-wrapped {border: 1px dashed gray;margin: 0 0.4em 0.5em 0.4em;box-sizing: border-box;padding-bottom: 0.4em;background-color: white;}#sk-container-id-1 div.sk-label label {font-family: monospace;font-weight: bold;display: inline-block;line-height: 1.2em;}#sk-container-id-1 div.sk-label-container {text-align: center;}#sk-container-id-1 div.sk-container {/* jupyter's `normalize.less` sets `[hidden] { display: none; }` but bootstrap.min.css set `[hidden] { display: none !important; }` so we also need the `!important` here to be able to override the default hidden behavior on the sphinx rendered scikit-learn.org. See: https://github.com/scikit-learn/scikit-learn/issues/21755 */display: inline-block !important;position: relative;}#sk-container-id-1 div.sk-text-repr-fallback {display: none;}</style><div id=\"sk-container-id-1\" class=\"sk-top-container\"><div class=\"sk-text-repr-fallback\"><pre>XGBClassifier(base_score=None, booster=None, callbacks=None,\n",
              "              colsample_bylevel=None, colsample_bynode=None,\n",
              "              colsample_bytree=None, device=None, early_stopping_rounds=None,\n",
              "              enable_categorical=False, eval_metric=&#x27;mlogloss&#x27;,\n",
              "              feature_types=None, gamma=None, grow_policy=None,\n",
              "              importance_type=None, interaction_constraints=None,\n",
              "              learning_rate=None, max_bin=None, max_cat_threshold=None,\n",
              "              max_cat_to_onehot=None, max_delta_step=None, max_depth=None,\n",
              "              max_leaves=None, min_child_weight=None, missing=nan,\n",
              "              monotone_constraints=None, multi_strategy=None, n_estimators=None,\n",
              "              n_jobs=None, num_parallel_tree=None, objective=&#x27;multi:softprob&#x27;, ...)</pre><b>In a Jupyter environment, please rerun this cell to show the HTML representation or trust the notebook. <br />On GitHub, the HTML representation is unable to render, please try loading this page with nbviewer.org.</b></div><div class=\"sk-container\" hidden><div class=\"sk-item\"><div class=\"sk-estimator sk-toggleable\"><input class=\"sk-toggleable__control sk-hidden--visually\" id=\"sk-estimator-id-1\" type=\"checkbox\" checked><label for=\"sk-estimator-id-1\" class=\"sk-toggleable__label sk-toggleable__label-arrow\">XGBClassifier</label><div class=\"sk-toggleable__content\"><pre>XGBClassifier(base_score=None, booster=None, callbacks=None,\n",
              "              colsample_bylevel=None, colsample_bynode=None,\n",
              "              colsample_bytree=None, device=None, early_stopping_rounds=None,\n",
              "              enable_categorical=False, eval_metric=&#x27;mlogloss&#x27;,\n",
              "              feature_types=None, gamma=None, grow_policy=None,\n",
              "              importance_type=None, interaction_constraints=None,\n",
              "              learning_rate=None, max_bin=None, max_cat_threshold=None,\n",
              "              max_cat_to_onehot=None, max_delta_step=None, max_depth=None,\n",
              "              max_leaves=None, min_child_weight=None, missing=nan,\n",
              "              monotone_constraints=None, multi_strategy=None, n_estimators=None,\n",
              "              n_jobs=None, num_parallel_tree=None, objective=&#x27;multi:softprob&#x27;, ...)</pre></div></div></div></div></div>"
            ]
          },
          "metadata": {},
          "execution_count": 10
        }
      ]
    },
    {
      "cell_type": "markdown",
      "source": [
        "# Avaliando modelo"
      ],
      "metadata": {
        "id": "d6jW-QHQazeI"
      }
    },
    {
      "cell_type": "code",
      "source": [
        "\n",
        "# Avaliar o modelo no conjunto de teste\n",
        "y_pred = model.predict(X_test)\n",
        "accuracy = accuracy_score(y_test, y_pred)\n",
        "print(f\"Acurácia no conjunto de teste: {accuracy * 100:.2f}%\")\n",
        "\n"
      ],
      "metadata": {
        "colab": {
          "base_uri": "https://localhost:8080/"
        },
        "id": "FP4JDBtMbRd5",
        "outputId": "84789b48-5732-42f9-96ec-22f2f1034bb1"
      },
      "execution_count": null,
      "outputs": [
        {
          "output_type": "stream",
          "name": "stdout",
          "text": [
            "Acurácia no conjunto de teste: 95.91%\n"
          ]
        }
      ]
    },
    {
      "cell_type": "markdown",
      "source": [
        "# Utilizando o classifierbasedtagger com o naivebayes."
      ],
      "metadata": {
        "id": "8kvSVRGPW2gb"
      }
    },
    {
      "cell_type": "code",
      "source": [
        "import conllu\n",
        "import itertools as it\n",
        "from nltk.classify import NaiveBayesClassifier\n",
        "from nltk.tag import ClassifierBasedTagger\n",
        "from sklearn.model_selection import train_test_split\n",
        "\n",
        "# Classe AttributeDict para tratar as palavras como atributos\n",
        "class AttributeDict(dict):\n",
        "    __getattr__ = dict.__getitem__\n",
        "    __setattr__ = dict.__setitem__\n",
        "    __delattr__ = dict.__delitem__\n",
        "\n",
        "# Classe para manipular arquivos CoNLLU\n",
        "class CoNLLU:\n",
        "    def __init__(self, files):\n",
        "        self.words = []\n",
        "        self.sentences = []\n",
        "        for f in files:\n",
        "            with open(f, encoding='utf-8') as file:\n",
        "                parsed = conllu.parse(file.read())\n",
        "                sents = [[AttributeDict(form=token['form'], lemma=token['lemma'], pos=token['upos'], feats=token['feats'])\n",
        "                          for token in tokenlist if token['upos'] != '_']\n",
        "                         for tokenlist in parsed]\n",
        "                self.sentences.extend(sents)\n",
        "                self.words.extend([word for sent in sents for word in sent])\n",
        "        self.pos_tags = set([word.pos for word in self.words])\n",
        "        self.feats_dict = {pos: set(it.chain.from_iterable([list(word.feats.keys())\n",
        "                                                           for word in self.words if word.pos == pos and word.feats is not None]))\n",
        "                           for pos in self.pos_tags}\n",
        "\n",
        "# Função para extrair as features de uma palavra\n",
        "def extract_features(tokens, index, history):\n",
        "    word = tokens[index][0]\n",
        "    features = {\n",
        "        'word': word.lower(),\n",
        "        'suffix-1': word[-1:],\n",
        "        'suffix-2': word[-2:],\n",
        "        'suffix-3': word[-3:],\n",
        "        'prefix-1': word[:1],\n",
        "        'prefix-2': word[:2],\n",
        "        'prefix-3': word[:3],\n",
        "        'is_capitalized': word[0].upper() == word[0],\n",
        "        'is_all_caps': word.upper() == word,\n",
        "        'is_all_lower': word.lower() == word,\n",
        "        'prev_word': '' if index == 0 else tokens[index - 1][0].lower(),\n",
        "        'prev_tag': '' if index == 0 else history[index - 1],\n",
        "        'next_word': '' if index == len(tokens) - 1 else tokens[index + 1][0].lower(),\n",
        "    }\n",
        "    return features\n",
        "\n",
        "# Carregar o dataset\n",
        "bosque = CoNLLU(files=[\"pt_porttinari-ud-train.conllu\",\"pt_porttinari-ud-test.conllu\"])\n",
        "\n",
        "# Preparar as sentenças com as tags\n",
        "tagged_sents = [[(word.form, word.pos) for word in sent] for sent in bosque.sentences]\n",
        "\n",
        "# Dividir os dados para treino e teste\n",
        "train_sents, test_sents = train_test_split(tagged_sents, test_size=0.2, random_state=42)\n",
        "\n",
        "# Definir o classificador do NLTK\n",
        "nltk_classifier = NaiveBayesClassifier.train(\n",
        "    [(extract_features(sent, i, sent[:i]), sent[i][1]) for sent in train_sents for i in range(len(sent))]\n",
        ")\n",
        "\n",
        "# Criar o tagger usando o classificador treinado\n",
        "tagger = ClassifierBasedTagger(train=train_sents, feature_detector=extract_features)\n",
        "\n",
        "# Avaliar o desempenho no conjunto de teste\n",
        "accuracy = tagger.evaluate(test_sents)\n",
        "print(f\"Acurácia no conjunto de teste: {accuracy * 100:.2f}%\")\n",
        "\n",
        "# Aplicar o tagged-based tagger\n",
        "def tag_sentence(sentence):\n",
        "    tokens = sentence.split()\n",
        "    tagged_sentence = tagger.tag(tokens)\n",
        "    return tagged_sentence\n"
      ],
      "metadata": {
        "id": "Kde5P_EJNwl3",
        "outputId": "8c9d97d6-b5a6-4867-94b6-e41298b99c26",
        "colab": {
          "base_uri": "https://localhost:8080/"
        }
      },
      "execution_count": null,
      "outputs": [
        {
          "output_type": "stream",
          "name": "stderr",
          "text": [
            "<ipython-input-12-479ca70780ab>:69: DeprecationWarning: \n",
            "  Function evaluate() has been deprecated.  Use accuracy(gold)\n",
            "  instead.\n",
            "  accuracy = tagger.evaluate(test_sents)\n"
          ]
        },
        {
          "output_type": "stream",
          "name": "stdout",
          "text": [
            "Acurácia no conjunto de teste: 60.30%\n"
          ]
        }
      ]
    }
  ]
}